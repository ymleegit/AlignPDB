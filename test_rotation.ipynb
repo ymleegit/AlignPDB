{
 "cells": [
  {
   "cell_type": "code",
   "execution_count": 24,
   "id": "6fbcd2f0-8c55-42d2-a52a-9b21da9f4e4b",
   "metadata": {},
   "outputs": [],
   "source": [
    "import numpy as np\n",
    "import matplotlib.pyplot as plt\n",
    "import math\n",
    "\n",
    "\n",
    "## rotate around axis (x, y, z) by angle theta (degree)\n",
    "def getQuaternion(x, y, z, theta):\n",
    "    ## Step 1. Normalization\n",
    "    norm = math.sqrt(x*x + y*y + z*z)\n",
    "    x /= norm\n",
    "    y /= norm\n",
    "    z /= norm\n",
    "\n",
    "    ## Step 2. Generate quaternion for rotation\n",
    "    q0 = math.cos(math.radians(theta*0.5))\n",
    "    q1 = x * math.sin(math.radians(theta*0.5))\n",
    "    q2 = y * math.sin(math.radians(theta*0.5))\n",
    "    q3 = z * math.sin(math.radians(theta*0.5))\n",
    "\n",
    "    return np.array([q0, q1, q2, q3])\n",
    "\n",
    "## Returns the rotation of a vector by a given quaternion.\n",
    "# input quat and vec are arrays of four numbers: [q0, q1, q2, q3]\n",
    "def quatVec(quat, vec):\n",
    "    v0 = (pow(quat[0],2) + pow(quat[1],2) - pow(quat[2],2) - pow(quat[3],2))*vec[0] \\\n",
    "            + (2.*quat[1]*quat[2]-2.*quat[0]*quat[3])*vec[1] + (2.*quat[3]*quat[1]+2.*quat[0]*quat[2])*vec[2]\n",
    "\n",
    "    v1 = (2.*quat[1]*quat[2]+2.*quat[0]*quat[3])*vec[0] + (pow(quat[0],2)-pow(quat[1],2)+pow(quat[2],2)-pow(quat[3],2))*vec[1] \\\n",
    "            + (2.*quat[2]*quat[3]-2.*quat[0]*quat[1])*vec[2]\n",
    "\n",
    "    v2 = (2.*quat[1]*quat[3]-2.*quat[0]*quat[2])*vec[0] + (2.*quat[0]*quat[1]+2.*quat[2]*quat[3])*vec[1] \\\n",
    "            + (pow(quat[0],2) - pow(quat[1],2) - pow(quat[2],2) + pow(quat[3],2))*vec[2]\n",
    "\n",
    "    return np.array([v0, v1, v2])\n",
    "\n",
    "\n",
    "## Rotates a list of vectors according to the quaternion quat\n",
    "# input quat and vec are arrays of four numbers: [q0, q1, q2, q3]\n",
    "def rotateFrame(quat, veclist):\n",
    "    vecarr=np.asarray(veclist)\n",
    "    new_veclist=[]\n",
    "\n",
    "    for vec in vecarr:\n",
    "        newvec = quatVec(quat, vec)\n",
    "        new_veclist.append(newvec)\n",
    "\n",
    "    new_veclist=np.asarray(new_veclist)\n",
    "\n",
    "    return new_veclist\n",
    "\n",
    "\n",
    "## Returns the product of two quaternions.\n",
    "# input quats are arrays of four numbers: [q0, q1, q2, q3]\n",
    "def quatMultiply(quatA, quatB):\n",
    "    # quaternion scalar\n",
    "    qAs = quatA[0]\n",
    "    # quaternion vector\n",
    "    qAv = np.array([quatA[1], quatA[2], quatA[3]])\n",
    "    # quaternion scalar\n",
    "    qBs = quatB[0]\n",
    "    # quaternion vector\n",
    "    qBv = np.array([quatB[1], quatB[2], quatB[3]])\n",
    "\n",
    "    # product scalar and vector\n",
    "    qABs = qAs*qBs - np.dot(qAv, qBv)\n",
    "    qABv = qAs*qBv + qBs*qAv + np.cross(qAv, qBv)\n",
    "\n",
    "    return np.array([qABs, qABv[0], qABv[1], qABv[2]])\n"
   ]
  },
  {
   "cell_type": "code",
   "execution_count": 12,
   "id": "76faa668-950a-41c9-99f7-e6f05d9c3966",
   "metadata": {},
   "outputs": [
    {
     "name": "stdout",
     "output_type": "stream",
     "text": [
      "[0.8660254 0.        0.        0.5      ]\n"
     ]
    },
    {
     "data": {
      "text/plain": [
       "(-5.0, 5.0)"
      ]
     },
     "execution_count": 12,
     "metadata": {},
     "output_type": "execute_result"
    },
    {
     "data": {
      "image/png": "[encoded data removed]",
      "text/plain": [
       "<Figure size 500x500 with 1 Axes>"
      ]
     },
     "metadata": {},
     "output_type": "display_data"
    }
   ],
   "source": [
    "## Task 1. Rotate a vector\n",
    "\n",
    "v1 = [1,2,0]\n",
    "\n",
    "# define a quaternion\n",
    "rot_axis = [0,0,1] \n",
    "rot_angle = 60\n",
    "q1 = getQuaternion(rot_axis[0],rot_axis[1],rot_axis[2],rot_angle)\n",
    "print(q1)\n",
    "\n",
    "# rotate v1\n",
    "rot_v1 = quatVec(q1,v1)\n",
    "\n",
    "plt.figure(figsize=(5,5))\n",
    "plt.plot([v1[0]],[v1[1]],'o',color='black')\n",
    "plt.plot([rot_v1[0]],[rot_v1[1]],'o',color='red')\n",
    "plt.xlim(-5,5)\n",
    "plt.ylim(-5,5)\n"
   ]
  },
  {
   "cell_type": "code",
   "execution_count": 23,
   "id": "9dec6276-62a4-43f2-8bb6-9646fa3d3696",
   "metadata": {},
   "outputs": [
    {
     "name": "stdout",
     "output_type": "stream",
     "text": [
      "[ 0.96592583 -0.         -0.         -0.25881905]\n"
     ]
    },
    {
     "data": {
      "text/plain": [
       "(-5.0, 5.0)"
      ]
     },
     "execution_count": 23,
     "metadata": {},
     "output_type": "execute_result"
    },
    {
     "data": {
      "image/png": "[encoded data removed]",
      "text/plain": [
       "<Figure size 500x500 with 1 Axes>"
      ]
     },
     "metadata": {},
     "output_type": "display_data"
    }
   ],
   "source": [
    "## Task 2. Rotate a group of vectors\n",
    "\n",
    "v2 = np.array([[1,2,0],[2,2,0]])\n",
    "\n",
    "# define a quaternion\n",
    "rot_axis = [0,0,1] \n",
    "rot_angle = -30\n",
    "q1 = getQuaternion(rot_axis[0],rot_axis[1],rot_axis[2],rot_angle)\n",
    "print(q1)\n",
    "\n",
    "rot_v2 = rotateFrame(q1,v2)\n",
    "\n",
    "\n",
    "plt.figure(figsize=(5,5))\n",
    "plt.plot([v2[:,0]],[v2[:,1]],'o',color='black')\n",
    "plt.plot([rot_v2[:,0]],[rot_v2[:,1]],'o',color='red')\n",
    "plt.xlim(-5,5)\n",
    "plt.ylim(-5,5)\n",
    "\n"
   ]
  },
  {
   "cell_type": "code",
   "execution_count": 27,
   "id": "2127c624-133d-4030-8e29-4b6b5723d3ae",
   "metadata": {},
   "outputs": [
    {
     "name": "stdout",
     "output_type": "stream",
     "text": [
      "[ 0.96592583 -0.         -0.         -0.25881905]\n",
      "[ 0.25881905  0.          0.         -0.96592583]\n"
     ]
    },
    {
     "data": {
      "text/plain": [
       "(-5.0, 5.0)"
      ]
     },
     "execution_count": 27,
     "metadata": {},
     "output_type": "execute_result"
    },
    {
     "data": {
      "image/png": "[encoded data removed]",
      "text/plain": [
       "<Figure size 500x500 with 1 Axes>"
      ]
     },
     "metadata": {},
     "output_type": "display_data"
    }
   ],
   "source": [
    "## Task 3. Rotate a group of vectors with two quaternions\n",
    "\n",
    "v2 = np.array([[1,2,0],[2,2,0]])\n",
    "\n",
    "# define a quaternion\n",
    "rot_axis = [0,0,1] \n",
    "rot_angle = -30\n",
    "q1 = getQuaternion(rot_axis[0],rot_axis[1],rot_axis[2],rot_angle)\n",
    "print(q1)\n",
    "\n",
    "rot_angle2 = -120\n",
    "q2 = getQuaternion(rot_axis[0],rot_axis[1],rot_axis[2],rot_angle2)\n",
    "\n",
    "q3 = quatMultiply(q1,q2)\n",
    "print(q3)\n",
    "\n",
    "rot_v2 = rotateFrame(q3,v2)\n",
    "\n",
    "\n",
    "plt.figure(figsize=(5,5))\n",
    "plt.plot([v2[:,0]],[v2[:,1]],'o',color='black')\n",
    "plt.plot([rot_v2[:,0]],[rot_v2[:,1]],'o',color='red')\n",
    "plt.xlim(-5,5)\n",
    "plt.ylim(-5,5)\n"
   ]
  },
  {
   "cell_type": "code",
   "execution_count": 31,
   "id": "f2231b55-1d9d-4750-95bb-1ec2c66a0afd",
   "metadata": {},
   "outputs": [
    {
     "name": "stdout",
     "output_type": "stream",
     "text": [
      "[ 0  0 -1]\n"
     ]
    }
   ],
   "source": [
    "\n",
    "a = np.array([1,0,0])\n",
    "b = np.array([0,1,0])\n",
    "print(np.cross(b,a))\n"
   ]
  },
  {
   "cell_type": "code",
   "execution_count": null,
   "id": "8098e470-4211-4ab7-b228-5900fb1bd974",
   "metadata": {},
   "outputs": [],
   "source": []
  }
 ],
 "metadata": {
  "kernelspec": {
   "display_name": "Python 3 (ipykernel)",
   "language": "python",
   "name": "python3"
  },
  "language_info": {
   "codemirror_mode": {
    "name": "ipython",
    "version": 3
   },
   "file_extension": ".py",
   "mimetype": "text/x-python",
   "name": "python",
   "nbconvert_exporter": "python",
   "pygments_lexer": "ipython3",
   "version": "3.12.2"
  }
 },
 "nbformat": 4,
 "nbformat_minor": 5
}
